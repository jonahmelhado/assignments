{
 "cells": [
  {
   "cell_type": "markdown",
   "metadata": {},
   "source": [
    "# NLP With Hotel Review Part 1"
   ]
  },
  {
   "cell_type": "code",
   "execution_count": 1,
   "metadata": {},
   "outputs": [],
   "source": [
    "# Importing libraries\n",
    "import pandas as pd\n",
    "import numpy as np\n",
    "import matplotlib.pyplot as plt\n",
    "%matplotlib inline"
   ]
  },
  {
   "cell_type": "code",
   "execution_count": 2,
   "metadata": {},
   "outputs": [
    {
     "data": {
      "text/html": [
       "<div>\n",
       "<style scoped>\n",
       "    .dataframe tbody tr th:only-of-type {\n",
       "        vertical-align: middle;\n",
       "    }\n",
       "\n",
       "    .dataframe tbody tr th {\n",
       "        vertical-align: top;\n",
       "    }\n",
       "\n",
       "    .dataframe thead th {\n",
       "        text-align: right;\n",
       "    }\n",
       "</style>\n",
       "<table border=\"1\" class=\"dataframe\">\n",
       "  <thead>\n",
       "    <tr style=\"text-align: right;\">\n",
       "      <th></th>\n",
       "      <th>Hotel_Address</th>\n",
       "      <th>Additional_Number_of_Scoring</th>\n",
       "      <th>Review_Date</th>\n",
       "      <th>Average_Score</th>\n",
       "      <th>Hotel_Name</th>\n",
       "      <th>Reviewer_Nationality</th>\n",
       "      <th>Negative_Review</th>\n",
       "      <th>Review_Total_Negative_Word_Counts</th>\n",
       "      <th>Total_Number_of_Reviews</th>\n",
       "      <th>Positive_Review</th>\n",
       "      <th>Review_Total_Positive_Word_Counts</th>\n",
       "      <th>Total_Number_of_Reviews_Reviewer_Has_Given</th>\n",
       "      <th>Reviewer_Score</th>\n",
       "      <th>Tags</th>\n",
       "      <th>days_since_review</th>\n",
       "      <th>lat</th>\n",
       "      <th>lng</th>\n",
       "    </tr>\n",
       "  </thead>\n",
       "  <tbody>\n",
       "    <tr>\n",
       "      <th>0</th>\n",
       "      <td>s Gravesandestraat 55 Oost 1092 AA Amsterdam ...</td>\n",
       "      <td>194</td>\n",
       "      <td>8/3/2017</td>\n",
       "      <td>7.7</td>\n",
       "      <td>Hotel Arena</td>\n",
       "      <td>Russia</td>\n",
       "      <td>I am so angry that i made this post available...</td>\n",
       "      <td>397</td>\n",
       "      <td>1403</td>\n",
       "      <td>Only the park outside of the hotel was beauti...</td>\n",
       "      <td>11</td>\n",
       "      <td>7</td>\n",
       "      <td>2.9</td>\n",
       "      <td>[' Leisure trip ', ' Couple ', ' Duplex Double...</td>\n",
       "      <td>0 days</td>\n",
       "      <td>52.360576</td>\n",
       "      <td>4.915968</td>\n",
       "    </tr>\n",
       "    <tr>\n",
       "      <th>1</th>\n",
       "      <td>s Gravesandestraat 55 Oost 1092 AA Amsterdam ...</td>\n",
       "      <td>194</td>\n",
       "      <td>8/3/2017</td>\n",
       "      <td>7.7</td>\n",
       "      <td>Hotel Arena</td>\n",
       "      <td>Ireland</td>\n",
       "      <td>No Negative</td>\n",
       "      <td>0</td>\n",
       "      <td>1403</td>\n",
       "      <td>No real complaints the hotel was great great ...</td>\n",
       "      <td>105</td>\n",
       "      <td>7</td>\n",
       "      <td>7.5</td>\n",
       "      <td>[' Leisure trip ', ' Couple ', ' Duplex Double...</td>\n",
       "      <td>0 days</td>\n",
       "      <td>52.360576</td>\n",
       "      <td>4.915968</td>\n",
       "    </tr>\n",
       "    <tr>\n",
       "      <th>2</th>\n",
       "      <td>s Gravesandestraat 55 Oost 1092 AA Amsterdam ...</td>\n",
       "      <td>194</td>\n",
       "      <td>7/31/2017</td>\n",
       "      <td>7.7</td>\n",
       "      <td>Hotel Arena</td>\n",
       "      <td>Australia</td>\n",
       "      <td>Rooms are nice but for elderly a bit difficul...</td>\n",
       "      <td>42</td>\n",
       "      <td>1403</td>\n",
       "      <td>Location was good and staff were ok It is cut...</td>\n",
       "      <td>21</td>\n",
       "      <td>9</td>\n",
       "      <td>7.1</td>\n",
       "      <td>[' Leisure trip ', ' Family with young childre...</td>\n",
       "      <td>3 days</td>\n",
       "      <td>52.360576</td>\n",
       "      <td>4.915968</td>\n",
       "    </tr>\n",
       "    <tr>\n",
       "      <th>3</th>\n",
       "      <td>s Gravesandestraat 55 Oost 1092 AA Amsterdam ...</td>\n",
       "      <td>194</td>\n",
       "      <td>7/31/2017</td>\n",
       "      <td>7.7</td>\n",
       "      <td>Hotel Arena</td>\n",
       "      <td>United Kingdom</td>\n",
       "      <td>My room was dirty and I was afraid to walk ba...</td>\n",
       "      <td>210</td>\n",
       "      <td>1403</td>\n",
       "      <td>Great location in nice surroundings the bar a...</td>\n",
       "      <td>26</td>\n",
       "      <td>1</td>\n",
       "      <td>3.8</td>\n",
       "      <td>[' Leisure trip ', ' Solo traveler ', ' Duplex...</td>\n",
       "      <td>3 days</td>\n",
       "      <td>52.360576</td>\n",
       "      <td>4.915968</td>\n",
       "    </tr>\n",
       "    <tr>\n",
       "      <th>4</th>\n",
       "      <td>s Gravesandestraat 55 Oost 1092 AA Amsterdam ...</td>\n",
       "      <td>194</td>\n",
       "      <td>7/24/2017</td>\n",
       "      <td>7.7</td>\n",
       "      <td>Hotel Arena</td>\n",
       "      <td>New Zealand</td>\n",
       "      <td>You When I booked with your company on line y...</td>\n",
       "      <td>140</td>\n",
       "      <td>1403</td>\n",
       "      <td>Amazing location and building Romantic setting</td>\n",
       "      <td>8</td>\n",
       "      <td>3</td>\n",
       "      <td>6.7</td>\n",
       "      <td>[' Leisure trip ', ' Couple ', ' Suite ', ' St...</td>\n",
       "      <td>10 days</td>\n",
       "      <td>52.360576</td>\n",
       "      <td>4.915968</td>\n",
       "    </tr>\n",
       "  </tbody>\n",
       "</table>\n",
       "</div>"
      ],
      "text/plain": [
       "                                       Hotel_Address  \\\n",
       "0   s Gravesandestraat 55 Oost 1092 AA Amsterdam ...   \n",
       "1   s Gravesandestraat 55 Oost 1092 AA Amsterdam ...   \n",
       "2   s Gravesandestraat 55 Oost 1092 AA Amsterdam ...   \n",
       "3   s Gravesandestraat 55 Oost 1092 AA Amsterdam ...   \n",
       "4   s Gravesandestraat 55 Oost 1092 AA Amsterdam ...   \n",
       "\n",
       "   Additional_Number_of_Scoring Review_Date  Average_Score   Hotel_Name  \\\n",
       "0                           194    8/3/2017            7.7  Hotel Arena   \n",
       "1                           194    8/3/2017            7.7  Hotel Arena   \n",
       "2                           194   7/31/2017            7.7  Hotel Arena   \n",
       "3                           194   7/31/2017            7.7  Hotel Arena   \n",
       "4                           194   7/24/2017            7.7  Hotel Arena   \n",
       "\n",
       "  Reviewer_Nationality                                    Negative_Review  \\\n",
       "0              Russia    I am so angry that i made this post available...   \n",
       "1             Ireland                                         No Negative   \n",
       "2           Australia    Rooms are nice but for elderly a bit difficul...   \n",
       "3      United Kingdom    My room was dirty and I was afraid to walk ba...   \n",
       "4         New Zealand    You When I booked with your company on line y...   \n",
       "\n",
       "   Review_Total_Negative_Word_Counts  Total_Number_of_Reviews  \\\n",
       "0                                397                     1403   \n",
       "1                                  0                     1403   \n",
       "2                                 42                     1403   \n",
       "3                                210                     1403   \n",
       "4                                140                     1403   \n",
       "\n",
       "                                     Positive_Review  \\\n",
       "0   Only the park outside of the hotel was beauti...   \n",
       "1   No real complaints the hotel was great great ...   \n",
       "2   Location was good and staff were ok It is cut...   \n",
       "3   Great location in nice surroundings the bar a...   \n",
       "4    Amazing location and building Romantic setting    \n",
       "\n",
       "   Review_Total_Positive_Word_Counts  \\\n",
       "0                                 11   \n",
       "1                                105   \n",
       "2                                 21   \n",
       "3                                 26   \n",
       "4                                  8   \n",
       "\n",
       "   Total_Number_of_Reviews_Reviewer_Has_Given  Reviewer_Score  \\\n",
       "0                                           7             2.9   \n",
       "1                                           7             7.5   \n",
       "2                                           9             7.1   \n",
       "3                                           1             3.8   \n",
       "4                                           3             6.7   \n",
       "\n",
       "                                                Tags days_since_review  \\\n",
       "0  [' Leisure trip ', ' Couple ', ' Duplex Double...            0 days   \n",
       "1  [' Leisure trip ', ' Couple ', ' Duplex Double...            0 days   \n",
       "2  [' Leisure trip ', ' Family with young childre...            3 days   \n",
       "3  [' Leisure trip ', ' Solo traveler ', ' Duplex...            3 days   \n",
       "4  [' Leisure trip ', ' Couple ', ' Suite ', ' St...           10 days   \n",
       "\n",
       "         lat       lng  \n",
       "0  52.360576  4.915968  \n",
       "1  52.360576  4.915968  \n",
       "2  52.360576  4.915968  \n",
       "3  52.360576  4.915968  \n",
       "4  52.360576  4.915968  "
      ]
     },
     "execution_count": 2,
     "metadata": {},
     "output_type": "execute_result"
    }
   ],
   "source": [
    "# Reading data into dataframe\n",
    "df = pd.read_csv('data/Hotel_Reviews.csv')\n",
    "df.head()"
   ]
  },
  {
   "cell_type": "code",
   "execution_count": 3,
   "metadata": {},
   "outputs": [
    {
     "data": {
      "text/plain": [
       "(515738, 17)"
      ]
     },
     "execution_count": 3,
     "metadata": {},
     "output_type": "execute_result"
    }
   ],
   "source": [
    "# Q1.1\n",
    "df.shape"
   ]
  },
  {
   "cell_type": "markdown",
   "metadata": {},
   "source": [
    "This is a very large dataset with 515,738 rows and 17 columns."
   ]
  },
  {
   "cell_type": "code",
   "execution_count": 4,
   "metadata": {},
   "outputs": [],
   "source": [
    "# Making column names all lower-case for ease of use\n",
    "df.columns = df.columns.str.lower()"
   ]
  },
  {
   "cell_type": "code",
   "execution_count": 5,
   "metadata": {},
   "outputs": [
    {
     "name": "stdout",
     "output_type": "stream",
     "text": [
      "<class 'pandas.core.frame.DataFrame'>\n",
      "RangeIndex: 515738 entries, 0 to 515737\n",
      "Data columns (total 17 columns):\n",
      " #   Column                                      Non-Null Count   Dtype  \n",
      "---  ------                                      --------------   -----  \n",
      " 0   hotel_address                               515738 non-null  object \n",
      " 1   additional_number_of_scoring                515738 non-null  int64  \n",
      " 2   review_date                                 515738 non-null  object \n",
      " 3   average_score                               515738 non-null  float64\n",
      " 4   hotel_name                                  515738 non-null  object \n",
      " 5   reviewer_nationality                        515738 non-null  object \n",
      " 6   negative_review                             515738 non-null  object \n",
      " 7   review_total_negative_word_counts           515738 non-null  int64  \n",
      " 8   total_number_of_reviews                     515738 non-null  int64  \n",
      " 9   positive_review                             515738 non-null  object \n",
      " 10  review_total_positive_word_counts           515738 non-null  int64  \n",
      " 11  total_number_of_reviews_reviewer_has_given  515738 non-null  int64  \n",
      " 12  reviewer_score                              515738 non-null  float64\n",
      " 13  tags                                        515738 non-null  object \n",
      " 14  days_since_review                           515738 non-null  object \n",
      " 15  lat                                         512470 non-null  float64\n",
      " 16  lng                                         512470 non-null  float64\n",
      "dtypes: float64(4), int64(5), object(8)\n",
      "memory usage: 66.9+ MB\n"
     ]
    }
   ],
   "source": [
    "# Checking columns\n",
    "df.info()"
   ]
  },
  {
   "cell_type": "code",
   "execution_count": 6,
   "metadata": {},
   "outputs": [],
   "source": [
    "# Q1.2 rounding review scores to integer values\n",
    "df['reviewer_score'] = df['reviewer_score'].round()"
   ]
  },
  {
   "cell_type": "code",
   "execution_count": 7,
   "metadata": {},
   "outputs": [
    {
     "data": {
      "image/png": "[encoded data removed]",
      "text/plain": [
       "<Figure size 432x288 with 1 Axes>"
      ]
     },
     "metadata": {
      "needs_background": "light"
     },
     "output_type": "display_data"
    }
   ],
   "source": [
    "# Q1.3 checking distribution of review scores - wouldn't expect a normal distribution\n",
    "plt.figure()\n",
    "plt.hist(df['reviewer_score'], bins=9) #bins at 9 because no values at 1\n",
    "plt.xlabel('Score')\n",
    "plt.ylabel('Count')\n",
    "plt.title('Distribution of Scores')\n",
    "plt.show()"
   ]
  },
  {
   "cell_type": "code",
   "execution_count": 8,
   "metadata": {},
   "outputs": [
    {
     "data": {
      "text/plain": [
       "10.0    187744\n",
       "8.0     110155\n",
       "9.0     105722\n",
       "7.0      44088\n",
       "6.0      27800\n",
       "5.0      24188\n",
       "4.0       9436\n",
       "3.0       4406\n",
       "2.0       2199\n",
       "Name: reviewer_score, dtype: int64"
      ]
     },
     "execution_count": 8,
     "metadata": {},
     "output_type": "execute_result"
    }
   ],
   "source": [
    "df['reviewer_score'].value_counts()"
   ]
  },
  {
   "cell_type": "code",
   "execution_count": 9,
   "metadata": {},
   "outputs": [
    {
     "data": {
      "image/png": "[encoded data removed]",
      "text/plain": [
       "<Figure size 432x288 with 1 Axes>"
      ]
     },
     "metadata": {
      "needs_background": "light"
     },
     "output_type": "display_data"
    }
   ],
   "source": [
    "# Q1.3 cont. checking distribution with QQ plot\n",
    "from scipy import stats\n",
    "\n",
    "plt.figure()\n",
    "stats.probplot(df['reviewer_score'], dist=\"norm\", plot = plt);\n",
    "plt.show();"
   ]
  },
  {
   "cell_type": "markdown",
   "metadata": {},
   "source": [
    "Q1.4\n",
    "\n",
    "As the distribution is not normal in this case, we cannot assume the central limit theorem is in effect. In effect we cannot rely on the summary statistics of the data set (mean, standard deviation) as accurate descriptors. Non-parametric modelling methods (K nearest neighbours, decision tree, SVM) will most likely be more useful."
   ]
  },
  {
   "cell_type": "markdown",
   "metadata": {},
   "source": [
    "Q2\n",
    "\n",
    "Numeric Columns:\n",
    "- additional number of scoring\n",
    "- average score\n",
    "- review total negative word counts\n",
    "- total number of reviews\n",
    "- review total positive word counts\n",
    "- total number of reviews reviewer has given\n",
    "- reviewer score\n",
    "\n",
    "Non-numeric columns:\n",
    "- hotel address\n",
    "- review date\n",
    "- hotel name\n",
    "- reviewer nationality\n",
    "- negative review\n",
    "- positive review\n",
    "- tags\n",
    "- days since last review\n",
    "\n",
    "Non-numeric columns that could be converted:\n",
    "- days since review\n",
    "- could convert tags column to is business trip with 1/0\n"
   ]
  },
  {
   "cell_type": "code",
   "execution_count": 10,
   "metadata": {},
   "outputs": [],
   "source": [
    "# Sampling 20% of data to reduce size for quicker runtimes\n",
    "df = df.sample(frac=0.2, random_state=7)"
   ]
  },
  {
   "cell_type": "code",
   "execution_count": 11,
   "metadata": {},
   "outputs": [],
   "source": [
    "# Converting reviewer score to 1/0\n",
    "df.loc[df['reviewer_score'] < 9, 'reviewer_score'] = 0\n",
    "df.loc[df['reviewer_score'] != 0, 'reviewer_score'] = 1"
   ]
  },
  {
   "cell_type": "code",
   "execution_count": 12,
   "metadata": {},
   "outputs": [],
   "source": [
    "# Removing ' days' and ' day' from column\n",
    "df['days_since_review'] = df['days_since_review'].str.replace(' days', '').str.replace(' day', '')\n",
    "# Converting type from string to int\n",
    "df['days_since_review'] = df['days_since_review'].astype(int)\n",
    "\n",
    "# Creating new column for business trip/leisure trip\n",
    "df['business_trip'] = 1\n",
    "# Placing 0's where tag Leisure trip shows up\n",
    "df.loc[df['tags'].str.contains(' Leisure trip '), 'business_trip'] = 0"
   ]
  },
  {
   "cell_type": "code",
   "execution_count": 13,
   "metadata": {},
   "outputs": [
    {
     "data": {
      "text/plain": [
       "Index(['hotel_address', 'additional_number_of_scoring', 'review_date',\n",
       "       'average_score', 'hotel_name', 'reviewer_nationality',\n",
       "       'negative_review', 'review_total_negative_word_counts',\n",
       "       'total_number_of_reviews', 'positive_review',\n",
       "       'review_total_positive_word_counts',\n",
       "       'total_number_of_reviews_reviewer_has_given', 'reviewer_score', 'tags',\n",
       "       'days_since_review', 'lat', 'lng', 'business_trip'],\n",
       "      dtype='object')"
      ]
     },
     "execution_count": 13,
     "metadata": {},
     "output_type": "execute_result"
    }
   ],
   "source": [
    "# checking\n",
    "df.columns"
   ]
  },
  {
   "cell_type": "code",
   "execution_count": 14,
   "metadata": {},
   "outputs": [
    {
     "data": {
      "text/plain": [
       "Index(['additional_number_of_scoring', 'average_score', 'negative_review',\n",
       "       'review_total_negative_word_counts', 'total_number_of_reviews',\n",
       "       'positive_review', 'review_total_positive_word_counts',\n",
       "       'total_number_of_reviews_reviewer_has_given', 'reviewer_score',\n",
       "       'days_since_review', 'lat', 'lng', 'business_trip'],\n",
       "      dtype='object')"
      ]
     },
     "execution_count": 14,
     "metadata": {},
     "output_type": "execute_result"
    }
   ],
   "source": [
    "# Dropping non-numeric columns except negative_review and positive_review\n",
    "df = df.drop(columns=['hotel_address', 'review_date', 'hotel_name', 'reviewer_nationality', 'tags'])\n",
    "df.columns"
   ]
  },
  {
   "cell_type": "code",
   "execution_count": 15,
   "metadata": {},
   "outputs": [
    {
     "name": "stdout",
     "output_type": "stream",
     "text": [
      "(103148, 12) (103148,)\n"
     ]
    }
   ],
   "source": [
    "# split data into independent(X) and dependent(y) variables\n",
    "X = df.drop(columns='reviewer_score')\n",
    "y = df['reviewer_score']\n",
    "\n",
    "# checking\n",
    "print(X.shape, y.shape)"
   ]
  },
  {
   "cell_type": "code",
   "execution_count": 16,
   "metadata": {},
   "outputs": [],
   "source": [
    "from sklearn.model_selection import train_test_split\n",
    "from sklearn.feature_extraction.text import CountVectorizer\n",
    "\n",
    "#splitting data into train and test sets\n",
    "X_train, X_test, y_train, y_test = train_test_split(X, y, test_size=0.3, random_state=7)"
   ]
  },
  {
   "cell_type": "code",
   "execution_count": 17,
   "metadata": {},
   "outputs": [
    {
     "data": {
      "text/plain": [
       "<72203x59 sparse matrix of type '<class 'numpy.int64'>'\n",
       "\twith 295456 stored elements in Compressed Sparse Row format>"
      ]
     },
     "execution_count": 17,
     "metadata": {},
     "output_type": "execute_result"
    }
   ],
   "source": [
    "# New vector for positive reviews, words must show up in 2% or more of the documents\n",
    "\n",
    "# Initializing and fitting to training data\n",
    "CV_pos = CountVectorizer(min_df = 0.02, stop_words=\"english\").fit(X_train['positive_review'])\n",
    "\n",
    "# Transforming training and test sets\n",
    "X_train_pos = CV_pos.transform(X_train['positive_review'])\n",
    "X_test_pos = CV_pos.transform(X_test['positive_review'])\n",
    "\n",
    "# Checking sparse matrix shape\n",
    "X_train_pos"
   ]
  },
  {
   "cell_type": "code",
   "execution_count": 18,
   "metadata": {},
   "outputs": [
    {
     "data": {
      "text/plain": [
       "<72203x43 sparse matrix of type '<class 'numpy.int64'>'\n",
       "\twith 144261 stored elements in Compressed Sparse Row format>"
      ]
     },
     "execution_count": 18,
     "metadata": {},
     "output_type": "execute_result"
    }
   ],
   "source": [
    "# New vector for negative reviews, words must show up in 2% or more of the documents\n",
    "\n",
    "# Initializing and fitting to training data\n",
    "CV_neg = CountVectorizer(min_df = 0.02, stop_words=\"english\").fit(X_train['negative_review'])\n",
    "\n",
    "# Transforming training and test sets\n",
    "X_train_neg = CV_neg.transform(X_train['negative_review'])\n",
    "X_test_neg = CV_neg.transform(X_test['negative_review'])\n",
    "\n",
    "# Checking sparse matrix shape\n",
    "X_train_neg"
   ]
  },
  {
   "cell_type": "code",
   "execution_count": 19,
   "metadata": {},
   "outputs": [
    {
     "data": {
      "text/plain": [
       "(72203, 10)"
      ]
     },
     "execution_count": 19,
     "metadata": {},
     "output_type": "execute_result"
    }
   ],
   "source": [
    "# dropping unvectorized positive and negative review columns\n",
    "X_train = X_train.drop(['positive_review', 'negative_review'], axis=1)\n",
    "X_test = X_test.drop(['positive_review', 'negative_review'], axis=1)\n",
    "X_train.shape"
   ]
  },
  {
   "cell_type": "code",
   "execution_count": 21,
   "metadata": {},
   "outputs": [],
   "source": [
    "# Creating dataframes to merge with current X_train and X_test\n",
    "\n",
    "# Positive training data \n",
    "X_train_p = pd.DataFrame(columns = CV_pos.get_feature_names(), data = X_train_pos.toarray())\n",
    "\n",
    "# Negative training data\n",
    "X_train_n = pd.DataFrame(columns = CV_neg.get_feature_names(), data = X_train_neg.toarray())\n",
    "\n",
    "# Positive testing data\n",
    "X_test_p = pd.DataFrame(columns = CV_pos.get_feature_names(), data = X_test_pos.toarray())\n",
    "\n",
    "# Negative testing data\n",
    "X_test_n = pd.DataFrame(columns = CV_neg.get_feature_names(), data = X_test_neg.toarray())"
   ]
  },
  {
   "cell_type": "code",
   "execution_count": 22,
   "metadata": {},
   "outputs": [
    {
     "data": {
      "text/plain": [
       "RangeIndex(start=0, stop=72203, step=1)"
      ]
     },
     "execution_count": 22,
     "metadata": {},
     "output_type": "execute_result"
    }
   ],
   "source": [
    "# Resetting index for training data so concatenation proceeds smoothly \n",
    "X_train.reset_index(inplace=True)\n",
    "X_train.index"
   ]
  },
  {
   "cell_type": "code",
   "execution_count": 23,
   "metadata": {},
   "outputs": [],
   "source": [
    "# Concatenating training data and assigning to X_train\n",
    "X_train = pd.concat([X_train, X_train_p, X_train_n], axis=1)"
   ]
  },
  {
   "cell_type": "code",
   "execution_count": 24,
   "metadata": {},
   "outputs": [
    {
     "data": {
      "text/html": [
       "<div>\n",
       "<style scoped>\n",
       "    .dataframe tbody tr th:only-of-type {\n",
       "        vertical-align: middle;\n",
       "    }\n",
       "\n",
       "    .dataframe tbody tr th {\n",
       "        vertical-align: top;\n",
       "    }\n",
       "\n",
       "    .dataframe thead th {\n",
       "        text-align: right;\n",
       "    }\n",
       "</style>\n",
       "<table border=\"1\" class=\"dataframe\">\n",
       "  <thead>\n",
       "    <tr style=\"text-align: right;\">\n",
       "      <th></th>\n",
       "      <th>index</th>\n",
       "      <th>additional_number_of_scoring</th>\n",
       "      <th>average_score</th>\n",
       "      <th>review_total_negative_word_counts</th>\n",
       "      <th>total_number_of_reviews</th>\n",
       "      <th>review_total_positive_word_counts</th>\n",
       "      <th>total_number_of_reviews_reviewer_has_given</th>\n",
       "      <th>days_since_review</th>\n",
       "      <th>lat</th>\n",
       "      <th>lng</th>\n",
       "      <th>...</th>\n",
       "      <th>service</th>\n",
       "      <th>shower</th>\n",
       "      <th>small</th>\n",
       "      <th>staff</th>\n",
       "      <th>stay</th>\n",
       "      <th>time</th>\n",
       "      <th>wasn</th>\n",
       "      <th>water</th>\n",
       "      <th>wifi</th>\n",
       "      <th>work</th>\n",
       "    </tr>\n",
       "  </thead>\n",
       "  <tbody>\n",
       "    <tr>\n",
       "      <th>0</th>\n",
       "      <td>49114</td>\n",
       "      <td>52</td>\n",
       "      <td>8.5</td>\n",
       "      <td>0</td>\n",
       "      <td>283</td>\n",
       "      <td>10</td>\n",
       "      <td>1</td>\n",
       "      <td>102</td>\n",
       "      <td>48.866859</td>\n",
       "      <td>2.302821</td>\n",
       "      <td>...</td>\n",
       "      <td>0</td>\n",
       "      <td>0</td>\n",
       "      <td>0</td>\n",
       "      <td>0</td>\n",
       "      <td>0</td>\n",
       "      <td>0</td>\n",
       "      <td>0</td>\n",
       "      <td>0</td>\n",
       "      <td>0</td>\n",
       "      <td>0</td>\n",
       "    </tr>\n",
       "    <tr>\n",
       "      <th>1</th>\n",
       "      <td>460988</td>\n",
       "      <td>926</td>\n",
       "      <td>8.2</td>\n",
       "      <td>12</td>\n",
       "      <td>5770</td>\n",
       "      <td>6</td>\n",
       "      <td>1</td>\n",
       "      <td>569</td>\n",
       "      <td>52.368130</td>\n",
       "      <td>4.844085</td>\n",
       "      <td>...</td>\n",
       "      <td>1</td>\n",
       "      <td>0</td>\n",
       "      <td>0</td>\n",
       "      <td>0</td>\n",
       "      <td>0</td>\n",
       "      <td>0</td>\n",
       "      <td>0</td>\n",
       "      <td>0</td>\n",
       "      <td>0</td>\n",
       "      <td>0</td>\n",
       "    </tr>\n",
       "    <tr>\n",
       "      <th>2</th>\n",
       "      <td>183018</td>\n",
       "      <td>154</td>\n",
       "      <td>8.0</td>\n",
       "      <td>25</td>\n",
       "      <td>768</td>\n",
       "      <td>2</td>\n",
       "      <td>77</td>\n",
       "      <td>711</td>\n",
       "      <td>51.512676</td>\n",
       "      <td>-0.186783</td>\n",
       "      <td>...</td>\n",
       "      <td>0</td>\n",
       "      <td>0</td>\n",
       "      <td>0</td>\n",
       "      <td>1</td>\n",
       "      <td>0</td>\n",
       "      <td>0</td>\n",
       "      <td>0</td>\n",
       "      <td>0</td>\n",
       "      <td>0</td>\n",
       "      <td>0</td>\n",
       "    </tr>\n",
       "    <tr>\n",
       "      <th>3</th>\n",
       "      <td>309871</td>\n",
       "      <td>514</td>\n",
       "      <td>8.9</td>\n",
       "      <td>0</td>\n",
       "      <td>7108</td>\n",
       "      <td>34</td>\n",
       "      <td>12</td>\n",
       "      <td>29</td>\n",
       "      <td>52.314371</td>\n",
       "      <td>4.938806</td>\n",
       "      <td>...</td>\n",
       "      <td>0</td>\n",
       "      <td>0</td>\n",
       "      <td>0</td>\n",
       "      <td>0</td>\n",
       "      <td>0</td>\n",
       "      <td>0</td>\n",
       "      <td>0</td>\n",
       "      <td>0</td>\n",
       "      <td>0</td>\n",
       "      <td>0</td>\n",
       "    </tr>\n",
       "    <tr>\n",
       "      <th>4</th>\n",
       "      <td>473371</td>\n",
       "      <td>221</td>\n",
       "      <td>7.5</td>\n",
       "      <td>20</td>\n",
       "      <td>3811</td>\n",
       "      <td>0</td>\n",
       "      <td>8</td>\n",
       "      <td>312</td>\n",
       "      <td>45.499520</td>\n",
       "      <td>9.206138</td>\n",
       "      <td>...</td>\n",
       "      <td>0</td>\n",
       "      <td>0</td>\n",
       "      <td>0</td>\n",
       "      <td>1</td>\n",
       "      <td>0</td>\n",
       "      <td>0</td>\n",
       "      <td>0</td>\n",
       "      <td>0</td>\n",
       "      <td>0</td>\n",
       "      <td>0</td>\n",
       "    </tr>\n",
       "  </tbody>\n",
       "</table>\n",
       "<p>5 rows × 113 columns</p>\n",
       "</div>"
      ],
      "text/plain": [
       "    index  additional_number_of_scoring  average_score  \\\n",
       "0   49114                            52            8.5   \n",
       "1  460988                           926            8.2   \n",
       "2  183018                           154            8.0   \n",
       "3  309871                           514            8.9   \n",
       "4  473371                           221            7.5   \n",
       "\n",
       "   review_total_negative_word_counts  total_number_of_reviews  \\\n",
       "0                                  0                      283   \n",
       "1                                 12                     5770   \n",
       "2                                 25                      768   \n",
       "3                                  0                     7108   \n",
       "4                                 20                     3811   \n",
       "\n",
       "   review_total_positive_word_counts  \\\n",
       "0                                 10   \n",
       "1                                  6   \n",
       "2                                  2   \n",
       "3                                 34   \n",
       "4                                  0   \n",
       "\n",
       "   total_number_of_reviews_reviewer_has_given  days_since_review        lat  \\\n",
       "0                                           1                102  48.866859   \n",
       "1                                           1                569  52.368130   \n",
       "2                                          77                711  51.512676   \n",
       "3                                          12                 29  52.314371   \n",
       "4                                           8                312  45.499520   \n",
       "\n",
       "        lng  ...  service  shower  small  staff  stay  time  wasn  water  \\\n",
       "0  2.302821  ...        0       0      0      0     0     0     0      0   \n",
       "1  4.844085  ...        1       0      0      0     0     0     0      0   \n",
       "2 -0.186783  ...        0       0      0      1     0     0     0      0   \n",
       "3  4.938806  ...        0       0      0      0     0     0     0      0   \n",
       "4  9.206138  ...        0       0      0      1     0     0     0      0   \n",
       "\n",
       "   wifi  work  \n",
       "0     0     0  \n",
       "1     0     0  \n",
       "2     0     0  \n",
       "3     0     0  \n",
       "4     0     0  \n",
       "\n",
       "[5 rows x 113 columns]"
      ]
     },
     "execution_count": 24,
     "metadata": {},
     "output_type": "execute_result"
    }
   ],
   "source": [
    "# Checking final dataframe\n",
    "X_train.head()"
   ]
  },
  {
   "cell_type": "code",
   "execution_count": 25,
   "metadata": {},
   "outputs": [
    {
     "data": {
      "text/plain": [
       "RangeIndex(start=0, stop=30945, step=1)"
      ]
     },
     "execution_count": 25,
     "metadata": {},
     "output_type": "execute_result"
    }
   ],
   "source": [
    "# resetting index for test data so concatenation proceeds smoothly\n",
    "X_test.reset_index(inplace=True)\n",
    "X_test.index"
   ]
  },
  {
   "cell_type": "code",
   "execution_count": 26,
   "metadata": {},
   "outputs": [],
   "source": [
    "# concatenating and assigning to X_test\n",
    "X_test = pd.concat([X_test, X_test_p, X_test_n], axis=1)"
   ]
  },
  {
   "cell_type": "code",
   "execution_count": 27,
   "metadata": {},
   "outputs": [
    {
     "data": {
      "text/html": [
       "<div>\n",
       "<style scoped>\n",
       "    .dataframe tbody tr th:only-of-type {\n",
       "        vertical-align: middle;\n",
       "    }\n",
       "\n",
       "    .dataframe tbody tr th {\n",
       "        vertical-align: top;\n",
       "    }\n",
       "\n",
       "    .dataframe thead th {\n",
       "        text-align: right;\n",
       "    }\n",
       "</style>\n",
       "<table border=\"1\" class=\"dataframe\">\n",
       "  <thead>\n",
       "    <tr style=\"text-align: right;\">\n",
       "      <th></th>\n",
       "      <th>index</th>\n",
       "      <th>additional_number_of_scoring</th>\n",
       "      <th>average_score</th>\n",
       "      <th>review_total_negative_word_counts</th>\n",
       "      <th>total_number_of_reviews</th>\n",
       "      <th>review_total_positive_word_counts</th>\n",
       "      <th>total_number_of_reviews_reviewer_has_given</th>\n",
       "      <th>days_since_review</th>\n",
       "      <th>lat</th>\n",
       "      <th>lng</th>\n",
       "      <th>...</th>\n",
       "      <th>service</th>\n",
       "      <th>shower</th>\n",
       "      <th>small</th>\n",
       "      <th>staff</th>\n",
       "      <th>stay</th>\n",
       "      <th>time</th>\n",
       "      <th>wasn</th>\n",
       "      <th>water</th>\n",
       "      <th>wifi</th>\n",
       "      <th>work</th>\n",
       "    </tr>\n",
       "  </thead>\n",
       "  <tbody>\n",
       "    <tr>\n",
       "      <th>0</th>\n",
       "      <td>142846</td>\n",
       "      <td>1198</td>\n",
       "      <td>8.5</td>\n",
       "      <td>4</td>\n",
       "      <td>6596</td>\n",
       "      <td>2</td>\n",
       "      <td>1</td>\n",
       "      <td>614</td>\n",
       "      <td>51.512974</td>\n",
       "      <td>-0.183743</td>\n",
       "      <td>...</td>\n",
       "      <td>0</td>\n",
       "      <td>0</td>\n",
       "      <td>0</td>\n",
       "      <td>0</td>\n",
       "      <td>0</td>\n",
       "      <td>0</td>\n",
       "      <td>0</td>\n",
       "      <td>0</td>\n",
       "      <td>0</td>\n",
       "      <td>0</td>\n",
       "    </tr>\n",
       "    <tr>\n",
       "      <th>1</th>\n",
       "      <td>421738</td>\n",
       "      <td>726</td>\n",
       "      <td>8.6</td>\n",
       "      <td>0</td>\n",
       "      <td>4530</td>\n",
       "      <td>34</td>\n",
       "      <td>1</td>\n",
       "      <td>168</td>\n",
       "      <td>52.341943</td>\n",
       "      <td>4.875960</td>\n",
       "      <td>...</td>\n",
       "      <td>0</td>\n",
       "      <td>0</td>\n",
       "      <td>0</td>\n",
       "      <td>0</td>\n",
       "      <td>0</td>\n",
       "      <td>0</td>\n",
       "      <td>0</td>\n",
       "      <td>0</td>\n",
       "      <td>0</td>\n",
       "      <td>0</td>\n",
       "    </tr>\n",
       "    <tr>\n",
       "      <th>2</th>\n",
       "      <td>126163</td>\n",
       "      <td>995</td>\n",
       "      <td>8.1</td>\n",
       "      <td>11</td>\n",
       "      <td>3826</td>\n",
       "      <td>14</td>\n",
       "      <td>5</td>\n",
       "      <td>276</td>\n",
       "      <td>51.504348</td>\n",
       "      <td>-0.033444</td>\n",
       "      <td>...</td>\n",
       "      <td>0</td>\n",
       "      <td>0</td>\n",
       "      <td>0</td>\n",
       "      <td>0</td>\n",
       "      <td>0</td>\n",
       "      <td>0</td>\n",
       "      <td>0</td>\n",
       "      <td>1</td>\n",
       "      <td>0</td>\n",
       "      <td>0</td>\n",
       "    </tr>\n",
       "    <tr>\n",
       "      <th>3</th>\n",
       "      <td>181195</td>\n",
       "      <td>832</td>\n",
       "      <td>9.1</td>\n",
       "      <td>41</td>\n",
       "      <td>4672</td>\n",
       "      <td>15</td>\n",
       "      <td>4</td>\n",
       "      <td>306</td>\n",
       "      <td>51.510237</td>\n",
       "      <td>-0.076443</td>\n",
       "      <td>...</td>\n",
       "      <td>0</td>\n",
       "      <td>0</td>\n",
       "      <td>0</td>\n",
       "      <td>0</td>\n",
       "      <td>0</td>\n",
       "      <td>0</td>\n",
       "      <td>0</td>\n",
       "      <td>0</td>\n",
       "      <td>0</td>\n",
       "      <td>0</td>\n",
       "    </tr>\n",
       "    <tr>\n",
       "      <th>4</th>\n",
       "      <td>324699</td>\n",
       "      <td>128</td>\n",
       "      <td>9.4</td>\n",
       "      <td>5</td>\n",
       "      <td>1353</td>\n",
       "      <td>19</td>\n",
       "      <td>2</td>\n",
       "      <td>636</td>\n",
       "      <td>48.197550</td>\n",
       "      <td>16.368640</td>\n",
       "      <td>...</td>\n",
       "      <td>0</td>\n",
       "      <td>0</td>\n",
       "      <td>0</td>\n",
       "      <td>0</td>\n",
       "      <td>0</td>\n",
       "      <td>0</td>\n",
       "      <td>0</td>\n",
       "      <td>0</td>\n",
       "      <td>0</td>\n",
       "      <td>0</td>\n",
       "    </tr>\n",
       "  </tbody>\n",
       "</table>\n",
       "<p>5 rows × 113 columns</p>\n",
       "</div>"
      ],
      "text/plain": [
       "    index  additional_number_of_scoring  average_score  \\\n",
       "0  142846                          1198            8.5   \n",
       "1  421738                           726            8.6   \n",
       "2  126163                           995            8.1   \n",
       "3  181195                           832            9.1   \n",
       "4  324699                           128            9.4   \n",
       "\n",
       "   review_total_negative_word_counts  total_number_of_reviews  \\\n",
       "0                                  4                     6596   \n",
       "1                                  0                     4530   \n",
       "2                                 11                     3826   \n",
       "3                                 41                     4672   \n",
       "4                                  5                     1353   \n",
       "\n",
       "   review_total_positive_word_counts  \\\n",
       "0                                  2   \n",
       "1                                 34   \n",
       "2                                 14   \n",
       "3                                 15   \n",
       "4                                 19   \n",
       "\n",
       "   total_number_of_reviews_reviewer_has_given  days_since_review        lat  \\\n",
       "0                                           1                614  51.512974   \n",
       "1                                           1                168  52.341943   \n",
       "2                                           5                276  51.504348   \n",
       "3                                           4                306  51.510237   \n",
       "4                                           2                636  48.197550   \n",
       "\n",
       "         lng  ...  service  shower  small  staff  stay  time  wasn  water  \\\n",
       "0  -0.183743  ...        0       0      0      0     0     0     0      0   \n",
       "1   4.875960  ...        0       0      0      0     0     0     0      0   \n",
       "2  -0.033444  ...        0       0      0      0     0     0     0      1   \n",
       "3  -0.076443  ...        0       0      0      0     0     0     0      0   \n",
       "4  16.368640  ...        0       0      0      0     0     0     0      0   \n",
       "\n",
       "   wifi  work  \n",
       "0     0     0  \n",
       "1     0     0  \n",
       "2     0     0  \n",
       "3     0     0  \n",
       "4     0     0  \n",
       "\n",
       "[5 rows x 113 columns]"
      ]
     },
     "execution_count": 27,
     "metadata": {},
     "output_type": "execute_result"
    }
   ],
   "source": [
    "# checking for issues\n",
    "X_test.head()"
   ]
  },
  {
   "cell_type": "markdown",
   "metadata": {},
   "source": [
    "Q3.5\n",
    "\n",
    "The min_df parameter is used for removing terms that appear infrequently. \n",
    "Default: min_df = 1, ensures that words that aren't present in at least one document are included. We can use min_df as a ratio as well to ignore words which appear in less than a certain proportion of the reviews.\n",
    "We have set min_df=0.2 to cut down on possible noise due to the size of the set\n",
    "\n"
   ]
  }
 ],
 "metadata": {
  "kernelspec": {
   "display_name": "Python 3",
   "language": "python",
   "name": "python3"
  },
  "language_info": {
   "codemirror_mode": {
    "name": "ipython",
    "version": 3
   },
   "file_extension": ".py",
   "mimetype": "text/x-python",
   "name": "python",
   "nbconvert_exporter": "python",
   "pygments_lexer": "ipython3",
   "version": "3.8.3"
  }
 },
 "nbformat": 4,
 "nbformat_minor": 4
}
